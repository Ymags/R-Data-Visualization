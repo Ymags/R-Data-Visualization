{
 "cells": [
  {
   "cell_type": "code",
   "execution_count": 1,
   "id": "e6d5f54d-c4f2-44a4-a265-11fd4ef399cc",
   "metadata": {},
   "outputs": [
    {
     "name": "stderr",
     "output_type": "stream",
     "text": [
      "── \u001b[1mAttaching core tidyverse packages\u001b[22m ──────────────────────────────────────────────────────────────── tidyverse 2.0.0 ──\n",
      "\u001b[32m✔\u001b[39m \u001b[34mdplyr    \u001b[39m 1.1.4     \u001b[32m✔\u001b[39m \u001b[34mreadr    \u001b[39m 2.1.5\n",
      "\u001b[32m✔\u001b[39m \u001b[34mforcats  \u001b[39m 1.0.0     \u001b[32m✔\u001b[39m \u001b[34mstringr  \u001b[39m 1.5.1\n",
      "\u001b[32m✔\u001b[39m \u001b[34mggplot2  \u001b[39m 3.5.2     \u001b[32m✔\u001b[39m \u001b[34mtibble   \u001b[39m 3.2.1\n",
      "\u001b[32m✔\u001b[39m \u001b[34mlubridate\u001b[39m 1.9.4     \u001b[32m✔\u001b[39m \u001b[34mtidyr    \u001b[39m 1.3.1\n",
      "\u001b[32m✔\u001b[39m \u001b[34mpurrr    \u001b[39m 1.0.4     \n",
      "── \u001b[1mConflicts\u001b[22m ────────────────────────────────────────────────────────────────────────────────── tidyverse_conflicts() ──\n",
      "\u001b[31m✖\u001b[39m \u001b[34mdplyr\u001b[39m::\u001b[32mfilter()\u001b[39m masks \u001b[34mstats\u001b[39m::filter()\n",
      "\u001b[31m✖\u001b[39m \u001b[34mdplyr\u001b[39m::\u001b[32mlag()\u001b[39m    masks \u001b[34mstats\u001b[39m::lag()\n",
      "\u001b[36mℹ\u001b[39m Use the conflicted package (\u001b[3m\u001b[34m<http://conflicted.r-lib.org/>\u001b[39m\u001b[23m) to force all conflicts to become errors\n",
      "\u001b[1mRows: \u001b[22m\u001b[34m1305\u001b[39m \u001b[1mColumns: \u001b[22m\u001b[34m14\u001b[39m\n",
      "\u001b[36m──\u001b[39m \u001b[1mColumn specification\u001b[22m \u001b[36m────────────────────────────────────────────────────────────────────────────────────────────────\u001b[39m\n",
      "\u001b[1mDelimiter:\u001b[22m \",\"\n",
      "\u001b[31mchr\u001b[39m (10): الجنس, الجنسية, الفئة العمرية, الجهة, الكادر الوظيفي, المرتبة الوظ...\n",
      "\u001b[32mdbl\u001b[39m  (4): رقم الموظف, السنة, الشهر, اليوم\n",
      "\n",
      "\u001b[36mℹ\u001b[39m Use `spec()` to retrieve the full column specification for this data.\n",
      "\u001b[36mℹ\u001b[39m Specify the column types or set `show_col_types = FALSE` to quiet this message.\n",
      "\u001b[1mRows: \u001b[22m\u001b[34m9736\u001b[39m \u001b[1mColumns: \u001b[22m\u001b[34m14\u001b[39m\n",
      "\u001b[36m──\u001b[39m \u001b[1mColumn specification\u001b[22m \u001b[36m────────────────────────────────────────────────────────────────────────────────────────────────\u001b[39m\n",
      "\u001b[1mDelimiter:\u001b[22m \",\"\n",
      "\u001b[31mchr\u001b[39m (10): الجنس, الجنسية, الفئة العمرية, الجهة, الكادر الوظيفي, المرتبة الوظ...\n",
      "\u001b[32mdbl\u001b[39m  (4): رقم الموظف, السنة, الشهر, اليوم\n",
      "\n",
      "\u001b[36mℹ\u001b[39m Use `spec()` to retrieve the full column specification for this data.\n",
      "\u001b[36mℹ\u001b[39m Specify the column types or set `show_col_types = FALSE` to quiet this message.\n"
     ]
    }
   ],
   "source": [
    "library(tidyverse)\n",
    "\n",
    "data_q2 <- read_csv(\"Appointments for Second quarter of 2024CSV.csv\") %>%\n",
    "  mutate(الربع = \"الربع الثاني\")\n",
    "\n",
    "data_q3 <- read_csv(\"Appointments for third quarter of 2024CSV.csv\") %>%\n",
    "  mutate(الربع = \"الربع الثالث\")\n",
    "\n",
    "all_q_data <- bind_rows(data_q2, data_q3)\n",
    "\n",
    "colnames(all_q_data) <- str_trim(colnames(all_q_data))"
   ]
  },
  {
   "cell_type": "code",
   "execution_count": 2,
   "id": "17e09d8a-250a-4293-ad4b-a539e60b5845",
   "metadata": {},
   "outputs": [
    {
     "data": {
      "text/html": [
       "<style>\n",
       ".list-inline {list-style: none; margin:0; padding: 0}\n",
       ".list-inline>li {display: inline-block}\n",
       ".list-inline>li:not(:last-child)::after {content: \"\\00b7\"; padding: 0 .5ex}\n",
       "</style>\n",
       "<ol class=list-inline><li>'رقم الموظف'</li><li>'الجنس'</li><li>'الجنسية'</li><li>'الفئة العمرية'</li><li>'الجهة'</li><li>'الكادر الوظيفي'</li><li>'المرتبة الوظيفية'</li><li>'المسمى الوظيفي'</li><li>'المقر'</li><li>'المنطقة الإدارية'</li><li>'تصنيف العملية'</li><li>'السنة'</li><li>'الشهر'</li><li>'اليوم'</li><li>'الربع'</li></ol>\n"
      ],
      "text/latex": [
       "\\begin{enumerate*}\n",
       "\\item 'رقم الموظف'\n",
       "\\item 'الجنس'\n",
       "\\item 'الجنسية'\n",
       "\\item 'الفئة العمرية'\n",
       "\\item 'الجهة'\n",
       "\\item 'الكادر الوظيفي'\n",
       "\\item 'المرتبة الوظيفية'\n",
       "\\item 'المسمى الوظيفي'\n",
       "\\item 'المقر'\n",
       "\\item 'المنطقة الإدارية'\n",
       "\\item 'تصنيف العملية'\n",
       "\\item 'السنة'\n",
       "\\item 'الشهر'\n",
       "\\item 'اليوم'\n",
       "\\item 'الربع'\n",
       "\\end{enumerate*}\n"
      ],
      "text/markdown": [
       "1. 'رقم الموظف'\n",
       "2. 'الجنس'\n",
       "3. 'الجنسية'\n",
       "4. 'الفئة العمرية'\n",
       "5. 'الجهة'\n",
       "6. 'الكادر الوظيفي'\n",
       "7. 'المرتبة الوظيفية'\n",
       "8. 'المسمى الوظيفي'\n",
       "9. 'المقر'\n",
       "10. 'المنطقة الإدارية'\n",
       "11. 'تصنيف العملية'\n",
       "12. 'السنة'\n",
       "13. 'الشهر'\n",
       "14. 'اليوم'\n",
       "15. 'الربع'\n",
       "\n",
       "\n"
      ],
      "text/plain": [
       " [1] \"رقم الموظف\"       \"الجنس\"            \"الجنسية\"          \"الفئة العمرية\"   \n",
       " [5] \"الجهة\"            \"الكادر الوظيفي\"   \"المرتبة الوظيفية\" \"المسمى الوظيفي\"  \n",
       " [9] \"المقر\"            \"المنطقة الإدارية\" \"تصنيف العملية\"    \"السنة\"           \n",
       "[13] \"الشهر\"            \"اليوم\"            \"الربع\"           "
      ]
     },
     "metadata": {},
     "output_type": "display_data"
    }
   ],
   "source": [
    "colnames(all_q_data)"
   ]
  },
  {
   "cell_type": "code",
   "execution_count": 3,
   "id": "af40f8df-7419-4a39-bfc5-2906997d4d47",
   "metadata": {},
   "outputs": [],
   "source": [
    "all_q_data <- all_q_data %>%\n",
    "  unite(\"الجنس_والعمر\", الجنس, `الفئة العمرية`, sep = \" - \")"
   ]
  },
  {
   "cell_type": "code",
   "execution_count": 4,
   "id": "871d973a-7577-47f1-92c7-4babc02ec88d",
   "metadata": {},
   "outputs": [
    {
     "data": {
      "text/html": [
       "<table class=\"dataframe\">\n",
       "<caption>A tibble: 28 × 2</caption>\n",
       "<thead>\n",
       "\t<tr><th scope=col>الجنس_والعمر</th><th scope=col>n</th></tr>\n",
       "\t<tr><th scope=col>&lt;chr&gt;</th><th scope=col>&lt;int&gt;</th></tr>\n",
       "</thead>\n",
       "<tbody>\n",
       "\t<tr><td>أنثى - 20-24   </td><td>  34</td></tr>\n",
       "\t<tr><td>أنثى - 20-25   </td><td>  46</td></tr>\n",
       "\t<tr><td>أنثى - 25-30   </td><td> 552</td></tr>\n",
       "\t<tr><td>أنثى - 26-30   </td><td> 213</td></tr>\n",
       "\t<tr><td>أنثى - 31-35   </td><td>2995</td></tr>\n",
       "\t<tr><td>أنثى - 36-40   </td><td>2870</td></tr>\n",
       "\t<tr><td>أنثى - 41-45   </td><td>1027</td></tr>\n",
       "\t<tr><td>أنثى - 46-50   </td><td> 152</td></tr>\n",
       "\t<tr><td>أنثى - 51-55   </td><td>  17</td></tr>\n",
       "\t<tr><td>أنثى - 51-56   </td><td>   6</td></tr>\n",
       "\t<tr><td>أنثى - 56-59   </td><td>   5</td></tr>\n",
       "\t<tr><td>أنثى - 60 فاكثر</td><td>   1</td></tr>\n",
       "\t<tr><td>أنثى - 63-64   </td><td>   2</td></tr>\n",
       "\t<tr><td>ذكر - 20-24    </td><td>  86</td></tr>\n",
       "\t<tr><td>ذكر - 20-25    </td><td> 125</td></tr>\n",
       "\t<tr><td>ذكر - 25-30    </td><td> 854</td></tr>\n",
       "\t<tr><td>ذكر - 26-30    </td><td> 222</td></tr>\n",
       "\t<tr><td>ذكر - 31-35    </td><td>1170</td></tr>\n",
       "\t<tr><td>ذكر - 36-40    </td><td> 402</td></tr>\n",
       "\t<tr><td>ذكر - 41-45    </td><td> 136</td></tr>\n",
       "\t<tr><td>ذكر - 46-50    </td><td>  57</td></tr>\n",
       "\t<tr><td>ذكر - 51-55    </td><td>  20</td></tr>\n",
       "\t<tr><td>ذكر - 51-56    </td><td>  16</td></tr>\n",
       "\t<tr><td>ذكر - 56-59    </td><td>   7</td></tr>\n",
       "\t<tr><td>ذكر - 57-61    </td><td>  17</td></tr>\n",
       "\t<tr><td>ذكر - 60 فاكثر </td><td>   4</td></tr>\n",
       "\t<tr><td>ذكر - 63-64    </td><td>   1</td></tr>\n",
       "\t<tr><td>ذكر - 65 فاكثر </td><td>   4</td></tr>\n",
       "</tbody>\n",
       "</table>\n"
      ],
      "text/latex": [
       "A tibble: 28 × 2\n",
       "\\begin{tabular}{ll}\n",
       " الجنس\\_والعمر & n\\\\\n",
       " <chr> & <int>\\\\\n",
       "\\hline\n",
       "\t أنثى - 20-24    &   34\\\\\n",
       "\t أنثى - 20-25    &   46\\\\\n",
       "\t أنثى - 25-30    &  552\\\\\n",
       "\t أنثى - 26-30    &  213\\\\\n",
       "\t أنثى - 31-35    & 2995\\\\\n",
       "\t أنثى - 36-40    & 2870\\\\\n",
       "\t أنثى - 41-45    & 1027\\\\\n",
       "\t أنثى - 46-50    &  152\\\\\n",
       "\t أنثى - 51-55    &   17\\\\\n",
       "\t أنثى - 51-56    &    6\\\\\n",
       "\t أنثى - 56-59    &    5\\\\\n",
       "\t أنثى - 60 فاكثر &    1\\\\\n",
       "\t أنثى - 63-64    &    2\\\\\n",
       "\t ذكر - 20-24     &   86\\\\\n",
       "\t ذكر - 20-25     &  125\\\\\n",
       "\t ذكر - 25-30     &  854\\\\\n",
       "\t ذكر - 26-30     &  222\\\\\n",
       "\t ذكر - 31-35     & 1170\\\\\n",
       "\t ذكر - 36-40     &  402\\\\\n",
       "\t ذكر - 41-45     &  136\\\\\n",
       "\t ذكر - 46-50     &   57\\\\\n",
       "\t ذكر - 51-55     &   20\\\\\n",
       "\t ذكر - 51-56     &   16\\\\\n",
       "\t ذكر - 56-59     &    7\\\\\n",
       "\t ذكر - 57-61     &   17\\\\\n",
       "\t ذكر - 60 فاكثر  &    4\\\\\n",
       "\t ذكر - 63-64     &    1\\\\\n",
       "\t ذكر - 65 فاكثر  &    4\\\\\n",
       "\\end{tabular}\n"
      ],
      "text/markdown": [
       "\n",
       "A tibble: 28 × 2\n",
       "\n",
       "| الجنس_والعمر &lt;chr&gt; | n &lt;int&gt; |\n",
       "|---|---|\n",
       "| أنثى - 20-24    |   34 |\n",
       "| أنثى - 20-25    |   46 |\n",
       "| أنثى - 25-30    |  552 |\n",
       "| أنثى - 26-30    |  213 |\n",
       "| أنثى - 31-35    | 2995 |\n",
       "| أنثى - 36-40    | 2870 |\n",
       "| أنثى - 41-45    | 1027 |\n",
       "| أنثى - 46-50    |  152 |\n",
       "| أنثى - 51-55    |   17 |\n",
       "| أنثى - 51-56    |    6 |\n",
       "| أنثى - 56-59    |    5 |\n",
       "| أنثى - 60 فاكثر |    1 |\n",
       "| أنثى - 63-64    |    2 |\n",
       "| ذكر - 20-24     |   86 |\n",
       "| ذكر - 20-25     |  125 |\n",
       "| ذكر - 25-30     |  854 |\n",
       "| ذكر - 26-30     |  222 |\n",
       "| ذكر - 31-35     | 1170 |\n",
       "| ذكر - 36-40     |  402 |\n",
       "| ذكر - 41-45     |  136 |\n",
       "| ذكر - 46-50     |   57 |\n",
       "| ذكر - 51-55     |   20 |\n",
       "| ذكر - 51-56     |   16 |\n",
       "| ذكر - 56-59     |    7 |\n",
       "| ذكر - 57-61     |   17 |\n",
       "| ذكر - 60 فاكثر  |    4 |\n",
       "| ذكر - 63-64     |    1 |\n",
       "| ذكر - 65 فاكثر  |    4 |\n",
       "\n"
      ],
      "text/plain": [
       "   الجنس_والعمر    n   \n",
       "1  أنثى - 20-24      34\n",
       "2  أنثى - 20-25      46\n",
       "3  أنثى - 25-30     552\n",
       "4  أنثى - 26-30     213\n",
       "5  أنثى - 31-35    2995\n",
       "6  أنثى - 36-40    2870\n",
       "7  أنثى - 41-45    1027\n",
       "8  أنثى - 46-50     152\n",
       "9  أنثى - 51-55      17\n",
       "10 أنثى - 51-56       6\n",
       "11 أنثى - 56-59       5\n",
       "12 أنثى - 60 فاكثر    1\n",
       "13 أنثى - 63-64       2\n",
       "14 ذكر - 20-24       86\n",
       "15 ذكر - 20-25      125\n",
       "16 ذكر - 25-30      854\n",
       "17 ذكر - 26-30      222\n",
       "18 ذكر - 31-35     1170\n",
       "19 ذكر - 36-40      402\n",
       "20 ذكر - 41-45      136\n",
       "21 ذكر - 46-50       57\n",
       "22 ذكر - 51-55       20\n",
       "23 ذكر - 51-56       16\n",
       "24 ذكر - 56-59        7\n",
       "25 ذكر - 57-61       17\n",
       "26 ذكر - 60 فاكثر     4\n",
       "27 ذكر - 63-64        1\n",
       "28 ذكر - 65 فاكثر     4"
      ]
     },
     "metadata": {},
     "output_type": "display_data"
    }
   ],
   "source": [
    "count(all_q_data, الجنس_والعمر)"
   ]
  },
  {
   "cell_type": "code",
   "execution_count": 5,
   "id": "c7927305-9c9a-4a7e-a949-1e1003cbf145",
   "metadata": {},
   "outputs": [],
   "source": [
    "all_q_data <- all_q_data %>%\n",
    "  filter(!(الجنس_والعمر %in% c(\n",
    "    \"أنثى - 20-24\",\n",
    "    \"أنثى - 51-56\",\n",
    "    \"أنثى - 56-59\",\n",
    "    \"أنثى - 60 فاكثر\", \n",
    "    \"أنثى - 63-64\",\n",
    "    \"ذكر - 20-24\",\n",
    "    \"ذكر - 56-59\",\n",
    "    \"ذكر - 63-64\",\n",
    "    \"ذكر - 60 فاكثر\",\n",
    "    \"ذكر - 65 فاكثر\"\n",
    "  )))"
   ]
  },
  {
   "cell_type": "code",
   "execution_count": 6,
   "id": "2beae599-0500-4d80-8503-0a57baa1f8ab",
   "metadata": {},
   "outputs": [
    {
     "data": {
      "text/html": [
       "<table class=\"dataframe\">\n",
       "<caption>A tibble: 18 × 2</caption>\n",
       "<thead>\n",
       "\t<tr><th scope=col>الجنس_والعمر</th><th scope=col>n</th></tr>\n",
       "\t<tr><th scope=col>&lt;chr&gt;</th><th scope=col>&lt;int&gt;</th></tr>\n",
       "</thead>\n",
       "<tbody>\n",
       "\t<tr><td>أنثى - 20-25</td><td>  46</td></tr>\n",
       "\t<tr><td>أنثى - 25-30</td><td> 552</td></tr>\n",
       "\t<tr><td>أنثى - 26-30</td><td> 213</td></tr>\n",
       "\t<tr><td>أنثى - 31-35</td><td>2995</td></tr>\n",
       "\t<tr><td>أنثى - 36-40</td><td>2870</td></tr>\n",
       "\t<tr><td>أنثى - 41-45</td><td>1027</td></tr>\n",
       "\t<tr><td>أنثى - 46-50</td><td> 152</td></tr>\n",
       "\t<tr><td>أنثى - 51-55</td><td>  17</td></tr>\n",
       "\t<tr><td>ذكر - 20-25 </td><td> 125</td></tr>\n",
       "\t<tr><td>ذكر - 25-30 </td><td> 854</td></tr>\n",
       "\t<tr><td>ذكر - 26-30 </td><td> 222</td></tr>\n",
       "\t<tr><td>ذكر - 31-35 </td><td>1170</td></tr>\n",
       "\t<tr><td>ذكر - 36-40 </td><td> 402</td></tr>\n",
       "\t<tr><td>ذكر - 41-45 </td><td> 136</td></tr>\n",
       "\t<tr><td>ذكر - 46-50 </td><td>  57</td></tr>\n",
       "\t<tr><td>ذكر - 51-55 </td><td>  20</td></tr>\n",
       "\t<tr><td>ذكر - 51-56 </td><td>  16</td></tr>\n",
       "\t<tr><td>ذكر - 57-61 </td><td>  17</td></tr>\n",
       "</tbody>\n",
       "</table>\n"
      ],
      "text/latex": [
       "A tibble: 18 × 2\n",
       "\\begin{tabular}{ll}\n",
       " الجنس\\_والعمر & n\\\\\n",
       " <chr> & <int>\\\\\n",
       "\\hline\n",
       "\t أنثى - 20-25 &   46\\\\\n",
       "\t أنثى - 25-30 &  552\\\\\n",
       "\t أنثى - 26-30 &  213\\\\\n",
       "\t أنثى - 31-35 & 2995\\\\\n",
       "\t أنثى - 36-40 & 2870\\\\\n",
       "\t أنثى - 41-45 & 1027\\\\\n",
       "\t أنثى - 46-50 &  152\\\\\n",
       "\t أنثى - 51-55 &   17\\\\\n",
       "\t ذكر - 20-25  &  125\\\\\n",
       "\t ذكر - 25-30  &  854\\\\\n",
       "\t ذكر - 26-30  &  222\\\\\n",
       "\t ذكر - 31-35  & 1170\\\\\n",
       "\t ذكر - 36-40  &  402\\\\\n",
       "\t ذكر - 41-45  &  136\\\\\n",
       "\t ذكر - 46-50  &   57\\\\\n",
       "\t ذكر - 51-55  &   20\\\\\n",
       "\t ذكر - 51-56  &   16\\\\\n",
       "\t ذكر - 57-61  &   17\\\\\n",
       "\\end{tabular}\n"
      ],
      "text/markdown": [
       "\n",
       "A tibble: 18 × 2\n",
       "\n",
       "| الجنس_والعمر &lt;chr&gt; | n &lt;int&gt; |\n",
       "|---|---|\n",
       "| أنثى - 20-25 |   46 |\n",
       "| أنثى - 25-30 |  552 |\n",
       "| أنثى - 26-30 |  213 |\n",
       "| أنثى - 31-35 | 2995 |\n",
       "| أنثى - 36-40 | 2870 |\n",
       "| أنثى - 41-45 | 1027 |\n",
       "| أنثى - 46-50 |  152 |\n",
       "| أنثى - 51-55 |   17 |\n",
       "| ذكر - 20-25  |  125 |\n",
       "| ذكر - 25-30  |  854 |\n",
       "| ذكر - 26-30  |  222 |\n",
       "| ذكر - 31-35  | 1170 |\n",
       "| ذكر - 36-40  |  402 |\n",
       "| ذكر - 41-45  |  136 |\n",
       "| ذكر - 46-50  |   57 |\n",
       "| ذكر - 51-55  |   20 |\n",
       "| ذكر - 51-56  |   16 |\n",
       "| ذكر - 57-61  |   17 |\n",
       "\n"
      ],
      "text/plain": [
       "   الجنس_والعمر n   \n",
       "1  أنثى - 20-25   46\n",
       "2  أنثى - 25-30  552\n",
       "3  أنثى - 26-30  213\n",
       "4  أنثى - 31-35 2995\n",
       "5  أنثى - 36-40 2870\n",
       "6  أنثى - 41-45 1027\n",
       "7  أنثى - 46-50  152\n",
       "8  أنثى - 51-55   17\n",
       "9  ذكر - 20-25   125\n",
       "10 ذكر - 25-30   854\n",
       "11 ذكر - 26-30   222\n",
       "12 ذكر - 31-35  1170\n",
       "13 ذكر - 36-40   402\n",
       "14 ذكر - 41-45   136\n",
       "15 ذكر - 46-50    57\n",
       "16 ذكر - 51-55    20\n",
       "17 ذكر - 51-56    16\n",
       "18 ذكر - 57-61    17"
      ]
     },
     "metadata": {},
     "output_type": "display_data"
    }
   ],
   "source": [
    "count(all_q_data, الجنس_والعمر)"
   ]
  },
  {
   "cell_type": "code",
   "execution_count": 7,
   "id": "83d069fc-c0f5-45e7-9a4d-4c833a7e8d2b",
   "metadata": {},
   "outputs": [],
   "source": [
    "custom_colors <- c(\n",
    "    \"أنثى - 20-25\" = \"#e0bbff\",\n",
    "    \"أنثى - 25-30\" = \"#d291ff\",\n",
    "    \"أنثى - 26-30\" = \"#c05cff\",\n",
    "    \"أنثى - 31-35\" = \"#9932cc\",\n",
    "    \"أنثى - 36-40\" = \"#800080\",\n",
    "    \"أنثى - 41-45\" = \"#5a007a\",\n",
    "    \"أنثى - 46-50\" = \"#3a0059\",\n",
    "    \"أنثى - 51-55\" = \"#24003b\",\n",
    "    \"ذكر - 20-25\" = \"#d0f0f0\",\n",
    "    \"ذكر - 25-30\" = \"#a0e0e0\",\n",
    "    \"ذكر - 26-30\" = \"#70d0d0\",\n",
    "    \"ذكر - 31-35\" = \"#40c0c0\",\n",
    "    \"ذكر - 36-40\" = \"#00aaaa\",\n",
    "    \"ذكر - 41-45\" = \"#008080\",\n",
    "    \"ذكر - 46-50\" = \"#006060\",\n",
    "    \"ذكر - 51-55\" = \"#004040\",\n",
    "    \"ذكر - 51-56\" = \"#002020\",\n",
    "    \"ذكر - 57-61\" = \"#000f0f\"\n",
    ")"
   ]
  },
  {
   "cell_type": "code",
   "execution_count": 8,
   "id": "107594d8-ed9d-4ad4-8138-7912176450a2",
   "metadata": {},
   "outputs": [
    {
     "data": {
      "image/png": "[encoded data removed]",
      "text/plain": [
       "plot without title"
      ]
     },
     "metadata": {
      "image/png": {
       "height": 420,
       "width": 420
      }
     },
     "output_type": "display_data"
    }
   ],
   "source": [
    "ggplot(all_q_data, aes(x = الربع, fill = الجنس_والعمر)) +\n",
    "  geom_bar(position = \"stack\") +\n",
    "  scale_fill_manual(values = custom_colors) + \n",
    "  labs(\n",
    "    title = \"مقارنة عدد الموظفين حسب الجنس والفئة العمرية في كل ربع\",\n",
    "    x = \"الربع\",\n",
    "    y = \"عدد الموظفين\",\n",
    "    fill = \"الجنس والفئة\"\n",
    "  ) +\n",
    "  theme_minimal() +\n",
    "  theme(plot.title = element_text(hjust = 0.5))\n"
   ]
  },
  {
   "cell_type": "code",
   "execution_count": 11,
   "id": "62b2c36a-bdc5-4c41-a08b-0d4036b7c5bf",
   "metadata": {},
   "outputs": [
    {
     "data": {
      "image/png": "[encoded data removed]",
      "text/plain": [
       "plot without title"
      ]
     },
     "metadata": {
      "image/png": {
       "height": 420,
       "width": 420
      }
     },
     "output_type": "display_data"
    }
   ],
   "source": [
    "top_titles <- all_q_data %>%\n",
    "  count(`المسمى الوظيفي`, sort = TRUE) %>%\n",
    "  slice_max(n, n = 20)\n",
    "\n",
    "ggplot(top_titles, aes(x = reorder(`المسمى الوظيفي`, n), y = n)) +\n",
    "  geom_col(fill = \"blue\") +\n",
    "  coord_flip() +\n",
    "  labs(\n",
    "    title = \"أكثر 20 مسمى وظيفي شيوعًا\",\n",
    "    x = \"المسمى الوظيفي\",\n",
    "    y = \"عدد الموظفين\"\n",
    "  ) +\n",
    "  theme_minimal() +\n",
    "  theme(\n",
    "    plot.title = element_text(hjust = 0.5),\n",
    "    axis.text.y = element_text()\n",
    "  )"
   ]
  },
  {
   "cell_type": "code",
   "execution_count": 29,
   "id": "158da28a-fbc3-45f4-bd86-ce6aa02dc964",
   "metadata": {},
   "outputs": [
    {
     "data": {
      "image/png": "[encoded data removed]",
      "text/plain": [
       "plot without title"
      ]
     },
     "metadata": {
      "image/png": {
       "height": 420,
       "width": 420
      }
     },
     "output_type": "display_data"
    }
   ],
   "source": [
    "nationality_counts <- all_q_data %>%\n",
    "count(الجنسية) %>%\n",
    "mutate(percentage = n / sum(n) * 100)  \n",
    "\n",
    "ggplot(nationality_counts, aes(x = \"\", y = percentage, fill = الجنسية)) +\n",
    "geom_col(width = 1, color = \"black\") +\n",
    "coord_polar(theta = \"y\") +\n",
    "labs(\n",
    "title = \"النسبة المئوية للموظفين حسب الجنسية\",\n",
    "fill = \"الجنسية\"\n",
    ") +\n",
    "scale_fill_manual(values = c(\n",
    "\"سعودي\" = \"#0000ff\",\n",
    "\"مقيم\" = \"#ff0000\"\n",
    ")) +\n",
    "geom_text(aes(label = paste0(round(percentage, 1), \"%\")),\n",
    "position = position_stack(vjust = 0.5),\n",
    "color = \"white\",\n",
    "size = 5) +\n",
    "theme_void() +\n",
    "theme (plot.title = element_text(hjust = 0.5, color = \"#800e45\", size = 20),\n",
    "        plot.margin = margin(10, 13, 10, 10)\n",
    "      )"
   ]
  },
  {
   "cell_type": "code",
   "execution_count": null,
   "id": "31b71ef2-0704-48ab-abaa-694188f7eb6f",
   "metadata": {},
   "outputs": [],
   "source": [
    "heat_data <- all_q_data %>%\n",
    "  count(الجنسية, الجنس_والعمر)"
   ]
  },
  {
   "cell_type": "code",
   "execution_count": 50,
   "id": "62814e67-48dd-468a-aac5-ce459868a1d4",
   "metadata": {},
   "outputs": [
    {
     "data": {
      "image/png": "[encoded data removed]",
      "text/plain": [
       "plot without title"
      ]
     },
     "metadata": {
      "image/png": {
       "height": 420,
       "width": 420
      }
     },
     "output_type": "display_data"
    }
   ],
   "source": [
    "ggplot(heat_data, aes(x = الجنسية, y = الجنس_والعمر, fill = n)) +\n",
    "  geom_tile(color = \"gray20\") + \n",
    "  scale_fill_gradient(low = \"#f2e5ff\", high = \"#4b0082\", limits = c(0, 3000)) +  \n",
    "  labs(\n",
    "    title = \"خريطة حرارية\",\n",
    "    x = \"الجنسية\",\n",
    "    y = \"الجنس والفئة\",\n",
    "    fill = \"عدد الموظفين\"\n",
    "  ) +\n",
    "  theme_minimal() +\n",
    "  theme(\n",
    "    plot.title = element_text(hjust = 0.5, color = \"black\", size = 14),\n",
    "    axis.text = element_text(color = \"black\"),\n",
    "    axis.title = element_text(color = \"black\"),\n",
    "    legend.title = element_text(color = \"black\"),\n",
    "    legend.text = element_text(color = \"black\"),\n",
    "    plot.background = element_rect(fill = \"white\", color = NA),\n",
    "    panel.background = element_rect(fill = \"white\", color = NA),\n",
    "    panel.grid.major = element_blank(),\n",
    "    panel.grid.minor = element_blank()\n",
    "\n",
    "  )"
   ]
  },
  {
   "cell_type": "code",
   "execution_count": null,
   "id": "c3cba82d-21bd-4602-804b-37415e1855d7",
   "metadata": {},
   "outputs": [],
   "source": []
  }
 ],
 "metadata": {
  "kernelspec": {
   "display_name": "R",
   "language": "R",
   "name": "ir"
  },
  "language_info": {
   "codemirror_mode": "r",
   "file_extension": ".r",
   "mimetype": "text/x-r-source",
   "name": "R",
   "pygments_lexer": "r",
   "version": "4.5.0"
  }
 },
 "nbformat": 4,
 "nbformat_minor": 5
}
